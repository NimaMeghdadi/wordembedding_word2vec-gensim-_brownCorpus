{
 "cells": [
  {
   "cell_type": "code",
   "execution_count": 1,
   "metadata": {},
   "outputs": [],
   "source": [
    "import gensim\n",
    "import logging\n",
    "from nltk.corpus import brown"
   ]
  },
  {
   "cell_type": "code",
   "execution_count": 2,
   "metadata": {},
   "outputs": [],
   "source": [
    "model = gensim.models.Word2Vec.load(\"./tmp/brown_model/word2vec.model\")"
   ]
  },
  {
   "cell_type": "code",
   "execution_count": null,
   "metadata": {},
   "outputs": [],
   "source": [
    "logging.basicConfig(\n",
    "    format='%(asctime)s : %(levelname)s : %(message)s', level=logging.INFO)\n",
    "sentences = brown.sents()\n",
    "dim = [25, 100, 300]\n",
    "wind = [2, 7, 15]\n",
    "neg = [1, 7, 20]\n",
    "model = gensim.models.Word2Vec(\n",
    "    sentences,\n",
    "    min_count=1,\n",
    "    vector_size=25,\n",
    "    window=2,\n",
    "    negative=1,  # negatove>0 -> negative sampling\n",
    "    hs=0,  # hs=0\n",
    "    epochs=1,\n",
    "    sg=1,  # sg=1 ->skip-gram\n",
    ")\n",
    "model.save(\"./tmp/brown_model/word2vec.model\")"
   ]
  },
  {
   "cell_type": "code",
   "execution_count": 8,
   "metadata": {},
   "outputs": [
    {
     "ename": "ValueError",
     "evalue": "No valid similarity judgements found in ./evaluation/win353.csv: either invalid format or all are out-of-vocabulary in KeyedVectors<vector_size=25, 56057 keys>",
     "output_type": "error",
     "traceback": [
      "\u001b[1;31m---------------------------------------------------------------------------\u001b[0m",
      "\u001b[1;31mValueError\u001b[0m                                Traceback (most recent call last)",
      "Cell \u001b[1;32mIn[8], line 2\u001b[0m\n\u001b[0;32m      1\u001b[0m \u001b[39m# model.wv.evaluate_word_analogies(\"./evaluation/wordsim353_annotator1.txt\")\u001b[39;00m\n\u001b[1;32m----> 2\u001b[0m model\u001b[39m.\u001b[39;49mwv\u001b[39m.\u001b[39;49mevaluate_word_pairs(\u001b[39m'\u001b[39;49m\u001b[39m./evaluation/win353.csv\u001b[39;49m\u001b[39m'\u001b[39;49m)\n",
      "File \u001b[1;32mc:\\Users\\meghd\\Anaconda3\\envs\\nlp\\lib\\site-packages\\gensim\\models\\keyedvectors.py:1506\u001b[0m, in \u001b[0;36mKeyedVectors.evaluate_word_pairs\u001b[1;34m(self, pairs, delimiter, encoding, restrict_vocab, case_insensitive, dummy4unknown)\u001b[0m\n\u001b[0;32m   1504\u001b[0m \u001b[39massert\u001b[39;00m \u001b[39mlen\u001b[39m(similarity_gold) \u001b[39m==\u001b[39m \u001b[39mlen\u001b[39m(similarity_model)\n\u001b[0;32m   1505\u001b[0m \u001b[39mif\u001b[39;00m \u001b[39mnot\u001b[39;00m similarity_gold:\n\u001b[1;32m-> 1506\u001b[0m     \u001b[39mraise\u001b[39;00m \u001b[39mValueError\u001b[39;00m(\n\u001b[0;32m   1507\u001b[0m         \u001b[39mf\u001b[39m\u001b[39m\"\u001b[39m\u001b[39mNo valid similarity judgements found in \u001b[39m\u001b[39m{\u001b[39;00mpairs\u001b[39m}\u001b[39;00m\u001b[39m: either invalid format or \u001b[39m\u001b[39m\"\u001b[39m\n\u001b[0;32m   1508\u001b[0m         \u001b[39mf\u001b[39m\u001b[39m\"\u001b[39m\u001b[39mall are out-of-vocabulary in \u001b[39m\u001b[39m{\u001b[39;00m\u001b[39mself\u001b[39m\u001b[39m}\u001b[39;00m\u001b[39m\"\u001b[39m\n\u001b[0;32m   1509\u001b[0m     )\n\u001b[0;32m   1510\u001b[0m spearman \u001b[39m=\u001b[39m stats\u001b[39m.\u001b[39mspearmanr(similarity_gold, similarity_model)\n\u001b[0;32m   1511\u001b[0m pearson \u001b[39m=\u001b[39m stats\u001b[39m.\u001b[39mpearsonr(similarity_gold, similarity_model)\n",
      "\u001b[1;31mValueError\u001b[0m: No valid similarity judgements found in ./evaluation/win353.csv: either invalid format or all are out-of-vocabulary in KeyedVectors<vector_size=25, 56057 keys>"
     ]
    }
   ],
   "source": [
    "\n",
    "# model.wv.evaluate_word_analogies(\"./evaluation/wordsim353_annotator1.txt\")\n",
    "model.wv.evaluate_word_pairs('./evaluation/win353.csv')"
   ]
  },
  {
   "cell_type": "code",
   "execution_count": 7,
   "metadata": {},
   "outputs": [
    {
     "ename": "AttributeError",
     "evalue": "'Word2Vec' object has no attribute 'most_similar'",
     "output_type": "error",
     "traceback": [
      "\u001b[1;31m---------------------------------------------------------------------------\u001b[0m",
      "\u001b[1;31mAttributeError\u001b[0m                            Traceback (most recent call last)",
      "Cell \u001b[1;32mIn[7], line 1\u001b[0m\n\u001b[1;32m----> 1\u001b[0m model\u001b[39m.\u001b[39;49mmost_similar(\u001b[39m'\u001b[39m\u001b[39mwalking\u001b[39m\u001b[39m'\u001b[39m)\n",
      "\u001b[1;31mAttributeError\u001b[0m: 'Word2Vec' object has no attribute 'most_similar'"
     ]
    }
   ],
   "source": [
    "model.most_similar('walking')"
   ]
  }
 ],
 "metadata": {
  "kernelspec": {
   "display_name": "nlp",
   "language": "python",
   "name": "python3"
  },
  "language_info": {
   "codemirror_mode": {
    "name": "ipython",
    "version": 3
   },
   "file_extension": ".py",
   "mimetype": "text/x-python",
   "name": "python",
   "nbconvert_exporter": "python",
   "pygments_lexer": "ipython3",
   "version": "3.10.9"
  },
  "orig_nbformat": 4
 },
 "nbformat": 4,
 "nbformat_minor": 2
}
